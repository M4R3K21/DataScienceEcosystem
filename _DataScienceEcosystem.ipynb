{
 "cells": [
  {
   "cell_type": "markdown",
   "id": "9ea2ee40-011d-4e1a-8ee8-028f7d6881d8",
   "metadata": {},
   "source": [
    "# H1: Data Science Tools and Ecosystem"
   ]
  },
  {
   "cell_type": "markdown",
   "id": "73fd967b-224c-42ba-a3c8-0af686733362",
   "metadata": {},
   "source": [
    "In this notebook, Data Science Tools and Ecosystem are summarized."
   ]
  },
  {
   "cell_type": "markdown",
   "id": "9c713552-ddd7-4d58-a15d-4c4c809ab593",
   "metadata": {},
   "source": [
    "***Objectives:***\n",
    "List popular languages for Data Science\n",
    "- Python\n",
    "- SQL\n",
    "- R\n",
    "  "
   ]
  },
  {
   "cell_type": "markdown",
   "id": "e316420e-cda3-42ff-bab0-48182e25fb2e",
   "metadata": {},
   "source": [
    "# Some of the popular languages that Data Scientists use are:\n",
    "1. Python\n",
    "2. R\n",
    "3. SQL"
   ]
  },
  {
   "cell_type": "markdown",
   "id": "6370ccf5-361e-44e0-a5d2-ad6e79dcd616",
   "metadata": {},
   "source": [
    "# Some of the commonly used libraries used by Data Scientists include:\n",
    "1. Pandas\n",
    "2. NumPy\n",
    "3. SciPy"
   ]
  },
  {
   "cell_type": "markdown",
   "id": "a955ca34-8ccb-4722-89a5-208b10e958b4",
   "metadata": {},
   "source": [
    "|Data Science Tools     |\n",
    "|-----------------------|\n",
    "|RStudio                |\n",
    "|Microsoft Visual Studio|\n",
    "|PyCharm                |"
   ]
  },
  {
   "cell_type": "markdown",
   "id": "2ff26b07-d334-47fb-bae6-1ab08d8259ee",
   "metadata": {},
   "source": [
    "### H3: Below are a few examples of evaluating arithmetic expressions in Python"
   ]
  },
  {
   "cell_type": "code",
   "execution_count": 21,
   "id": "a146c4a9-7230-4b3b-b724-7debc5fd3948",
   "metadata": {},
   "outputs": [
    {
     "data": {
      "text/plain": [
       "17"
      ]
     },
     "execution_count": 21,
     "metadata": {},
     "output_type": "execute_result"
    }
   ],
   "source": [
    "# This a simple arithmetic expression to mutiply then add integers\n",
    "(3*4)+5 "
   ]
  },
  {
   "cell_type": "code",
   "execution_count": 25,
   "id": "57f568ac-f06b-4423-bcf5-b676553e74ef",
   "metadata": {},
   "outputs": [
    {
     "data": {
      "text/plain": [
       "3.3333333333333335"
      ]
     },
     "execution_count": 25,
     "metadata": {},
     "output_type": "execute_result"
    }
   ],
   "source": [
    "# This will convert 200 minutes to hours by diving by 60\n",
    "200 / 60"
   ]
  },
  {
   "cell_type": "markdown",
   "id": "5c7b6805-7885-4caa-a0fb-fa44c7dfc247",
   "metadata": {},
   "source": [
    "***Author***\n",
    "\n",
    "Marek Wisniewski"
   ]
  },
  {
   "cell_type": "code",
   "execution_count": null,
   "id": "63c2732a-0e0e-4ac4-a940-7fd23d4e3243",
   "metadata": {},
   "outputs": [],
   "source": []
  }
 ],
 "metadata": {
  "kernelspec": {
   "display_name": "Python 3 (ipykernel)",
   "language": "python",
   "name": "python3"
  },
  "language_info": {
   "codemirror_mode": {
    "name": "ipython",
    "version": 3
   },
   "file_extension": ".py",
   "mimetype": "text/x-python",
   "name": "python",
   "nbconvert_exporter": "python",
   "pygments_lexer": "ipython3",
   "version": "3.12.4"
  }
 },
 "nbformat": 4,
 "nbformat_minor": 5
}
